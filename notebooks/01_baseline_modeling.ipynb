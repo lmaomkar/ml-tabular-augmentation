{
 "cells": [
  {
   "cell_type": "code",
   "execution_count": 32,
   "id": "82b10470-f18c-46fe-8682-19b3fe836edc",
   "metadata": {},
   "outputs": [],
   "source": [
    "import numpy as np\n",
    "import pandas as pd\n",
    "import matplotlib.pyplot as plt\n",
    "import seaborn as sns\n",
    "\n",
    "from sklearn.datasets import load_breast_cancer\n",
    "from sklearn.model_selection import train_test_split\n",
    "from sklearn.preprocessing import StandardScaler\n",
    "from sklearn.metrics import accuracy_score, precision_score, recall_score, f1_score, roc_auc_score\n",
    "\n",
    "from sklearn.linear_model import LogisticRegression\n",
    "from sklearn.ensemble import RandomForestClassifier\n",
    "from xgboost import XGBClassifier\n",
    "\n",
    "import warnings\n",
    "warnings.filterwarnings('ignore')\n"
   ]
  },
  {
   "cell_type": "code",
   "execution_count": 33,
   "id": "07bed4ce-b9bf-4f38-a936-f3248bcbcf81",
   "metadata": {},
   "outputs": [
    {
     "name": "stdout",
     "output_type": "stream",
     "text": [
      "Shape: (569, 31)\n",
      "\n",
      "Class distribution:\n",
      " target\n",
      "1    357\n",
      "0    212\n",
      "Name: count, dtype: int64\n",
      "\n",
      "Missing values:\n",
      " 0\n"
     ]
    }
   ],
   "source": [
    "# Load dataset\n",
    "data = load_breast_cancer()\n",
    "X = pd.DataFrame(data.data, columns=data.feature_names)\n",
    "y = pd.Series(data.target, name=\"target\")\n",
    "\n",
    "# Combine for quick exploration\n",
    "df = pd.concat([X, y], axis=1)\n",
    "df.head()\n",
    "\n",
    "# Dataset shape and class balance\n",
    "print(\"Shape:\", df.shape)\n",
    "print(\"\\nClass distribution:\\n\", df[\"target\"].value_counts())\n",
    "\n",
    "# Check for missing values\n",
    "print(\"\\nMissing values:\\n\", df.isnull().sum().sum())\n"
   ]
  },
  {
   "cell_type": "code",
   "execution_count": 34,
   "id": "35e5254d-4fb0-424d-9e1b-6f1c39514e9b",
   "metadata": {},
   "outputs": [
    {
     "data": {
      "image/png": "[encoded data removed]",
      "text/plain": [
       "<Figure size 640x480 with 1 Axes>"
      ]
     },
     "metadata": {},
     "output_type": "display_data"
    }
   ],
   "source": [
    "sns.countplot(x=\"target\", data=df)\n",
    "plt.title(\"Class Distribution (0 = malignant, 1 = benign)\")\n",
    "plt.show()\n"
   ]
  },
  {
   "cell_type": "code",
   "execution_count": 35,
   "id": "7b3a6c31-8f8e-4e23-a378-b8bff42c39c7",
   "metadata": {},
   "outputs": [
    {
     "name": "stdout",
     "output_type": "stream",
     "text": [
      "Training size: (455, 30)\n",
      "Test size: (114, 30)\n"
     ]
    }
   ],
   "source": [
    "from sklearn.model_selection import train_test_split\n",
    "\n",
    "# Train-test split\n",
    "X_train, X_test, y_train, y_test = train_test_split(\n",
    "    X, y, test_size=0.2, random_state=42, stratify=y\n",
    ")\n",
    "\n",
    "print(\"Training size:\", X_train.shape)\n",
    "print(\"Test size:\", X_test.shape)\n"
   ]
  },
  {
   "cell_type": "code",
   "execution_count": 36,
   "id": "41fbcbe5-6308-48a9-8807-5f22c39542e6",
   "metadata": {},
   "outputs": [],
   "source": [
    "from sklearn.preprocessing import StandardScaler\n",
    "\n",
    "# Initialize and fit scaler on training data\n",
    "scaler = StandardScaler()\n",
    "X_train_scaled = scaler.fit_transform(X_train)\n",
    "X_test_scaled = scaler.transform(X_test)\n"
   ]
  },
  {
   "cell_type": "code",
   "execution_count": 37,
   "id": "59afee9a-d037-459d-a679-c6c2234c5a63",
   "metadata": {},
   "outputs": [],
   "source": [
    "from sklearn.metrics import accuracy_score, f1_score, roc_auc_score\n",
    "\n",
    "def evaluate_model(name, model, X_train, y_train, X_test, y_test):\n",
    "    model.fit(X_train, y_train)\n",
    "    y_pred = model.predict(X_test)\n",
    "    y_proba = model.predict_proba(X_test)[:, 1] if hasattr(model, \"predict_proba\") else y_pred\n",
    "\n",
    "    acc = accuracy_score(y_test, y_pred)\n",
    "    f1 = f1_score(y_test, y_pred)\n",
    "    roc = roc_auc_score(y_test, y_proba)\n",
    "\n",
    "    print(f\"--- {name} ---\")\n",
    "    print(f\"Accuracy: {acc:.4f}\")\n",
    "    print(f\"F1 Score: {f1:.4f}\")\n",
    "    print(f\"ROC AUC: {roc:.4f}\\n\")\n",
    "\n",
    "    return {\"model\": name, \"accuracy\": acc, \"f1\": f1, \"roc_auc\": roc}\n"
   ]
  },
  {
   "cell_type": "code",
   "execution_count": 38,
   "id": "af4878cc-5723-4f9e-a4ba-613100e81994",
   "metadata": {},
   "outputs": [
    {
     "name": "stdout",
     "output_type": "stream",
     "text": [
      "--- Logistic Regression ---\n",
      "Accuracy: 0.9825\n",
      "F1 Score: 0.9861\n",
      "ROC AUC: 0.9954\n",
      "\n",
      "--- Random Forest ---\n",
      "Accuracy: 0.9561\n",
      "F1 Score: 0.9655\n",
      "ROC AUC: 0.9939\n",
      "\n",
      "--- XGBoost ---\n",
      "Accuracy: 0.9561\n",
      "F1 Score: 0.9660\n",
      "ROC AUC: 0.9901\n",
      "\n"
     ]
    }
   ],
   "source": [
    "from sklearn.linear_model import LogisticRegression\n",
    "from sklearn.ensemble import RandomForestClassifier\n",
    "from xgboost import XGBClassifier\n",
    "\n",
    "# Initialize models\n",
    "logreg = LogisticRegression(max_iter=1000, random_state=42)\n",
    "rf = RandomForestClassifier(n_estimators=100, random_state=42)\n",
    "xgb = XGBClassifier(use_label_encoder=False, eval_metric='logloss', random_state=42)\n",
    "\n",
    "# Evaluate\n",
    "results = []\n",
    "results.append(evaluate_model(\"Logistic Regression\", logreg, X_train_scaled, y_train, X_test_scaled, y_test))\n",
    "results.append(evaluate_model(\"Random Forest\", rf, X_train_scaled, y_train, X_test_scaled, y_test))\n",
    "results.append(evaluate_model(\"XGBoost\", xgb, X_train_scaled, y_train, X_test_scaled, y_test))\n"
   ]
  },
  {
   "cell_type": "code",
   "execution_count": 39,
   "id": "2d58c354-a689-43d9-b68b-c029a9acdbbb",
   "metadata": {},
   "outputs": [
    {
     "data": {
      "text/html": [
       "<div>\n",
       "<style scoped>\n",
       "    .dataframe tbody tr th:only-of-type {\n",
       "        vertical-align: middle;\n",
       "    }\n",
       "\n",
       "    .dataframe tbody tr th {\n",
       "        vertical-align: top;\n",
       "    }\n",
       "\n",
       "    .dataframe thead th {\n",
       "        text-align: right;\n",
       "    }\n",
       "</style>\n",
       "<table border=\"1\" class=\"dataframe\">\n",
       "  <thead>\n",
       "    <tr style=\"text-align: right;\">\n",
       "      <th></th>\n",
       "      <th>model</th>\n",
       "      <th>accuracy</th>\n",
       "      <th>f1</th>\n",
       "      <th>roc_auc</th>\n",
       "    </tr>\n",
       "  </thead>\n",
       "  <tbody>\n",
       "    <tr>\n",
       "      <th>0</th>\n",
       "      <td>Logistic Regression</td>\n",
       "      <td>0.982456</td>\n",
       "      <td>0.986111</td>\n",
       "      <td>0.995370</td>\n",
       "    </tr>\n",
       "    <tr>\n",
       "      <th>1</th>\n",
       "      <td>Random Forest</td>\n",
       "      <td>0.956140</td>\n",
       "      <td>0.965517</td>\n",
       "      <td>0.993882</td>\n",
       "    </tr>\n",
       "    <tr>\n",
       "      <th>2</th>\n",
       "      <td>XGBoost</td>\n",
       "      <td>0.956140</td>\n",
       "      <td>0.965986</td>\n",
       "      <td>0.990079</td>\n",
       "    </tr>\n",
       "  </tbody>\n",
       "</table>\n",
       "</div>"
      ],
      "text/plain": [
       "                 model  accuracy        f1   roc_auc\n",
       "0  Logistic Regression  0.982456  0.986111  0.995370\n",
       "1        Random Forest  0.956140  0.965517  0.993882\n",
       "2              XGBoost  0.956140  0.965986  0.990079"
      ]
     },
     "execution_count": 39,
     "metadata": {},
     "output_type": "execute_result"
    }
   ],
   "source": [
    "import pandas as pd\n",
    "\n",
    "results_df = pd.DataFrame(results)\n",
    "results_df.sort_values(by=\"roc_auc\", ascending=False)\n"
   ]
  },
  {
   "cell_type": "code",
   "execution_count": 40,
   "id": "15737490-d92b-43ca-b7eb-20b242e42e69",
   "metadata": {},
   "outputs": [],
   "source": [
    "from sklearn.utils import resample\n",
    "\n",
    "def get_subsample(X, y, frac=0.2, random_state=42):\n",
    "    X_sub, y_sub = resample(X, y, \n",
    "                            replace=False, \n",
    "                            n_samples=int(frac * len(X)), \n",
    "                            stratify=y, \n",
    "                            random_state=random_state)\n",
    "    return X_sub, y_sub\n",
    "\n",
    "# Example: 20% subset\n",
    "X_small, y_small = get_subsample(X_train_scaled, y_train, frac=0.2)\n"
   ]
  },
  {
   "cell_type": "code",
   "execution_count": 41,
   "id": "73d442eb-3b15-4ca3-b8d4-bd800320bb9b",
   "metadata": {},
   "outputs": [],
   "source": [
    "from imblearn.over_sampling import SMOTE\n",
    "\n",
    "def augment_with_smote(X, y):\n",
    "    sm = SMOTE(random_state=42)\n",
    "    X_aug, y_aug = sm.fit_resample(X, y)\n",
    "    return X_aug, y_aug\n",
    "\n",
    "X_aug, y_aug = augment_with_smote(X_small, y_small)\n"
   ]
  },
  {
   "cell_type": "code",
   "execution_count": 42,
   "id": "9daca5eb-a54f-428d-ae5d-a560bd49c220",
   "metadata": {},
   "outputs": [
    {
     "name": "stdout",
     "output_type": "stream",
     "text": [
      "Training on small raw dataset\n",
      "--- XGBoost - Small ---\n",
      "Accuracy: 0.9386\n",
      "F1 Score: 0.9510\n",
      "ROC AUC: 0.9812\n",
      "\n",
      "Training on SMOTE-augmented dataset\n",
      "--- XGBoost - Augmented ---\n",
      "Accuracy: 0.9386\n",
      "F1 Score: 0.9510\n",
      "ROC AUC: 0.9869\n",
      "\n"
     ]
    },
    {
     "data": {
      "text/plain": [
       "{'model': 'XGBoost - Augmented',\n",
       " 'accuracy': 0.9385964912280702,\n",
       " 'f1': 0.951048951048951,\n",
       " 'roc_auc': np.float64(0.9869378306878307)}"
      ]
     },
     "execution_count": 42,
     "metadata": {},
     "output_type": "execute_result"
    }
   ],
   "source": [
    "# Without augmentation\n",
    "print(\"Training on small raw dataset\")\n",
    "evaluate_model(\"XGBoost - Small\", xgb, X_small, y_small, X_test_scaled, y_test)\n",
    "\n",
    "# With augmentation\n",
    "print(\"Training on SMOTE-augmented dataset\")\n",
    "evaluate_model(\"XGBoost - Augmented\", xgb, X_aug, y_aug, X_test_scaled, y_test)\n"
   ]
  },
  {
   "cell_type": "code",
   "execution_count": 43,
   "id": "91d96beb-0cd9-414d-98a4-4a5598bae745",
   "metadata": {},
   "outputs": [
    {
     "name": "stdout",
     "output_type": "stream",
     "text": [
      "Training on Gaussian Noised Data\n",
      "--- XGBoost - Gaussian Noise ---\n",
      "Accuracy: 0.9386\n",
      "F1 Score: 0.9510\n",
      "ROC AUC: 0.9863\n",
      "\n"
     ]
    },
    {
     "data": {
      "text/plain": [
       "{'model': 'XGBoost - Gaussian Noise',\n",
       " 'accuracy': 0.9385964912280702,\n",
       " 'f1': 0.951048951048951,\n",
       " 'roc_auc': np.float64(0.9862764550264551)}"
      ]
     },
     "execution_count": 43,
     "metadata": {},
     "output_type": "execute_result"
    }
   ],
   "source": [
    "import numpy as np\n",
    "\n",
    "def inject_gaussian_noise(X, noise_level=0.05):\n",
    "    noise = np.random.normal(loc=0.0, scale=noise_level, size=X.shape)\n",
    "    X_noisy = X + noise\n",
    "    return X_noisy\n",
    "X_noisy = inject_gaussian_noise(X_small, noise_level=0.05)\n",
    "print(\"Training on Gaussian Noised Data\")\n",
    "evaluate_model(\"XGBoost - Gaussian Noise\", xgb, X_noisy, y_small, X_test_scaled, y_test)\n",
    "\n"
   ]
  },
  {
   "cell_type": "code",
   "execution_count": 44,
   "id": "db8854a2-6632-48e8-b7a7-99424ddfeeb0",
   "metadata": {},
   "outputs": [
    {
     "name": "stdout",
     "output_type": "stream",
     "text": [
      "--- XGBoost - CTGAN ---\n",
      "Accuracy: 0.9211\n",
      "F1 Score: 0.9412\n",
      "ROC AUC: 0.9643\n",
      "\n"
     ]
    },
    {
     "data": {
      "text/plain": [
       "{'model': 'XGBoost - CTGAN',\n",
       " 'accuracy': 0.9210526315789473,\n",
       " 'f1': 0.9411764705882353,\n",
       " 'roc_auc': np.float64(0.9642857142857143)}"
      ]
     },
     "execution_count": 44,
     "metadata": {},
     "output_type": "execute_result"
    }
   ],
   "source": [
    "from sdv.single_table import CTGANSynthesizer\n",
    "from sdv.metadata import SingleTableMetadata\n",
    "import pandas as pd\n",
    "\n",
    "def generate_with_ctgan(X, y, epochs=300):\n",
    "    # Step 1: Combine X and y into a DataFrame\n",
    "    df = pd.DataFrame(X, columns=[f\"f{i}\" for i in range(X.shape[1])])\n",
    "    df['target'] = y.values if hasattr(y, 'values') else y\n",
    "\n",
    "    # Step 2: Auto-detect metadata\n",
    "    metadata = SingleTableMetadata()\n",
    "    metadata.detect_from_dataframe(df)\n",
    "\n",
    "    # Step 3: Initialize CTGANSynthesizer\n",
    "    model = CTGANSynthesizer(\n",
    "        metadata,\n",
    "        enforce_min_max_values=True,\n",
    "        enforce_rounding=False,\n",
    "        epochs=epochs\n",
    "    )\n",
    "\n",
    "    # Step 4: Train and sample\n",
    "    model.fit(df)\n",
    "    synthetic = model.sample(len(df))\n",
    "\n",
    "    # Step 5: Split synthetic data\n",
    "    y_synth = synthetic['target']\n",
    "    X_synth = synthetic.drop('target', axis=1).values\n",
    "\n",
    "    return X_synth, y_synth\n",
    "\n",
    "# Generate and evaluate\n",
    "X_ctgan, y_ctgan = generate_with_ctgan(X_small, y_small)\n",
    "evaluate_model(\"XGBoost - CTGAN\", xgb, X_ctgan, y_ctgan, X_test_scaled, y_test)\n"
   ]
  },
  {
   "cell_type": "code",
   "execution_count": 45,
   "id": "ee6b6411-3b6a-4174-9ebe-8124a5139d67",
   "metadata": {},
   "outputs": [
    {
     "name": "stdout",
     "output_type": "stream",
     "text": [
      "--- XGBoost - SMOTE ---\n",
      "Accuracy: 0.9386\n",
      "F1 Score: 0.9510\n",
      "ROC AUC: 0.9869\n",
      "\n"
     ]
    },
    {
     "data": {
      "text/plain": [
       "{'model': 'XGBoost - SMOTE',\n",
       " 'accuracy': 0.9385964912280702,\n",
       " 'f1': 0.951048951048951,\n",
       " 'roc_auc': np.float64(0.9869378306878307)}"
      ]
     },
     "execution_count": 45,
     "metadata": {},
     "output_type": "execute_result"
    }
   ],
   "source": [
    "from imblearn.over_sampling import SMOTE\n",
    "\n",
    "def generate_with_smote(X, y):\n",
    "    sm = SMOTE(random_state=42)\n",
    "    X_resampled, y_resampled = sm.fit_resample(X, y)\n",
    "    return X_resampled, y_resampled\n",
    "\n",
    "# Apply SMOTE\n",
    "X_smote, y_smote = generate_with_smote(X_small, y_small)\n",
    "evaluate_model(\"XGBoost - SMOTE\", xgb, X_smote, y_smote, X_test_scaled, y_test)\n"
   ]
  },
  {
   "cell_type": "code",
   "execution_count": 46,
   "id": "2a2b65d0-fea0-4e14-93d4-3ff765a28206",
   "metadata": {},
   "outputs": [
    {
     "name": "stdout",
     "output_type": "stream",
     "text": [
      "--- XGBoost - Mixup ---\n",
      "Accuracy: 0.9474\n",
      "F1 Score: 0.9595\n",
      "ROC AUC: 0.9825\n",
      "\n"
     ]
    },
    {
     "data": {
      "text/plain": [
       "{'model': 'XGBoost - Mixup',\n",
       " 'accuracy': 0.9473684210526315,\n",
       " 'f1': 0.9594594594594594,\n",
       " 'roc_auc': np.float64(0.9824735449735449)}"
      ]
     },
     "execution_count": 46,
     "metadata": {},
     "output_type": "execute_result"
    }
   ],
   "source": [
    "from sklearn.preprocessing import OneHotEncoder\n",
    "import numpy as np\n",
    "import pandas as pd\n",
    "\n",
    "def generate_with_mixup(X, y, alpha=0.4):\n",
    "    # Convert y to NumPy array and one-hot encode\n",
    "    y_array = y.to_numpy().reshape(-1, 1) if hasattr(y, 'to_numpy') else y.reshape(-1, 1)\n",
    "    encoder = OneHotEncoder(sparse_output=False)\n",
    "    y_encoded = encoder.fit_transform(y_array)\n",
    "\n",
    "    # Convert X to NumPy array if it's a DataFrame\n",
    "    X_array = X.to_numpy() if hasattr(X, 'to_numpy') else X\n",
    "\n",
    "    idx1 = np.arange(len(X_array))\n",
    "    idx2 = np.random.permutation(len(X_array))\n",
    "    lam = np.random.beta(alpha, alpha, len(X_array))[:, None]\n",
    "\n",
    "    X_mix = lam * X_array[idx1] + (1 - lam) * X_array[idx2]\n",
    "    y_mix = lam * y_encoded[idx1] + (1 - lam) * y_encoded[idx2]\n",
    "    y_mix_labels = np.argmax(y_mix, axis=1)\n",
    "\n",
    "    # Return as NumPy arrays\n",
    "    return X_mix, y_mix_labels\n",
    "\n",
    "X_mixup, y_mixup = generate_with_mixup(X_small, y_small)\n",
    "evaluate_model(\"XGBoost - Mixup\", xgb, X_mixup, y_mixup, X_test_scaled, y_test)\n",
    "\n"
   ]
  }
 ],
 "metadata": {
  "kernelspec": {
   "display_name": "Python 3 (ipykernel)",
   "language": "python",
   "name": "python3"
  },
  "language_info": {
   "codemirror_mode": {
    "name": "ipython",
    "version": 3
   },
   "file_extension": ".py",
   "mimetype": "text/x-python",
   "name": "python",
   "nbconvert_exporter": "python",
   "pygments_lexer": "ipython3",
   "version": "3.11.7"
  }
 },
 "nbformat": 4,
 "nbformat_minor": 5
}
